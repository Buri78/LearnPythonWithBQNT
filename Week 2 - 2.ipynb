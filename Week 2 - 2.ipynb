{
 "cells": [
  {
   "cell_type": "markdown",
   "metadata": {
    "deletable": true,
    "editable": true
   },
   "source": [
    "<span style='color: Rgb(255,160,40); font-size: 48px'> Python with BQNT<img src='logo.png' height='48' width='200' align='right' style=\"padding: 20px\"> </span> <br>\n",
    "<span style='color: grey; font-size: 13px'> Information in this tutorial has been collected from various sources and condensed into a single notebook. \n",
    " </span>"
   ]
  },
  {
   "cell_type": "markdown",
   "metadata": {
    "deletable": true,
    "editable": true
   },
   "source": [
    "## functions"
   ]
  },
  {
   "cell_type": "markdown",
   "metadata": {
    "deletable": true,
    "editable": true
   },
   "source": [
    "** Define a function **\n",
    "\n",
    "Do nothing with a function:\n",
    "\n",
    "```python\n",
    "def my_useless_function(arg1, arg2='default'):\n",
    "    pass\n",
    "my_useless_function('1')\n",
    "```"
   ]
  },
  {
   "cell_type": "code",
   "execution_count": null,
   "metadata": {
    "deletable": true,
    "editable": true
   },
   "outputs": [],
   "source": [
    "# Type code here\n",
    "def my_useless_function(arg1, arg2='default'):\n",
    "    pass\n",
    "\n",
    "my_useless_function('1', arg2=2)"
   ]
  },
  {
   "cell_type": "markdown",
   "metadata": {
    "deletable": true,
    "editable": true
   },
   "source": [
    "Return something from a function:\n",
    "\n",
    "```python\n",
    "def say_hi():\n",
    "    return 'hi'\n",
    "print(say_hi())\n",
    "```\n",
    "\n",
    "*Explore this:* If no ```return``` is specified, what does the function return?"
   ]
  },
  {
   "cell_type": "code",
   "execution_count": null,
   "metadata": {
    "deletable": true,
    "editable": true
   },
   "outputs": [],
   "source": [
    "# Type code here\n",
    "def say_hi():\n",
    "    return 'hi'\n",
    "print(say_hi())"
   ]
  },
  {
   "cell_type": "markdown",
   "metadata": {
    "deletable": true,
    "editable": true
   },
   "source": [
    "<span style=\"color:darkorange; font-size:1em\"> Quick practice </span> \n",
    "\n",
    "Write a function that returns the sum of arbitrary list of numbers."
   ]
  },
  {
   "cell_type": "code",
   "execution_count": null,
   "metadata": {
    "deletable": true,
    "editable": true
   },
   "outputs": [],
   "source": [
    "# Type code here\n"
   ]
  },
  {
   "cell_type": "code",
   "execution_count": null,
   "metadata": {},
   "outputs": [],
   "source": [
    "# Uncomment below line and run to load solution\n",
    "# %load \"solutions/sum_iterables.py"
   ]
  },
  {
   "cell_type": "markdown",
   "metadata": {
    "deletable": true,
    "editable": true
   },
   "source": [
    "** \\*args and \\*\\*kwargs **\n",
    "\n",
    "*Explore this:* \n",
    "\n",
    "what do `*args` and `**kwargs` do?\n",
    "\n",
    "```python\n",
    "def print_all_args(*args):\n",
    "    print(args)\n",
    "        \n",
    "print_all_args('msg1', 'msg2')\n",
    "```\n",
    "\n",
    "```python\n",
    "def print_all_kwargs(**kwargs):\n",
    "    print(kwargs)\n",
    "        \n",
    "print_all_kwargs(keys1='msg1', keys2='msg2')\n",
    "```\n",
    "\n",
    "args and kwargs are conventions and you may name them whatever you like... But please follow the conventions."
   ]
  },
  {
   "cell_type": "code",
   "execution_count": null,
   "metadata": {
    "deletable": true,
    "editable": true
   },
   "outputs": [],
   "source": [
    "# Type code here\n",
    "def print_all_args(*args):\n",
    "    print(args)\n",
    "\n",
    "print_all_args('msg1', 'msg2')\n"
   ]
  },
  {
   "cell_type": "code",
   "execution_count": null,
   "metadata": {},
   "outputs": [],
   "source": [
    "def print_all_kwargs(**kwargs):\n",
    "    print(kwargs)\n",
    "\n",
    "print_all_kwargs(keys1='msg1', keys2='msg2')"
   ]
  },
  {
   "cell_type": "code",
   "execution_count": null,
   "metadata": {
    "collapsed": false,
    "deletable": true,
    "editable": true,
    "jupyter": {
     "outputs_hidden": false
    }
   },
   "outputs": [],
   "source": [
    "def print_all_kwargs(*args, **kwargs):\n",
    "    print('*args are {}'.format(args))\n",
    "    print('*kwargs are {}'.format(kwargs))\n",
    "\n",
    "print_all_kwargs('arg1', 'arg2', keys2='msg2', keys1='msg1')"
   ]
  },
  {
   "cell_type": "code",
   "execution_count": null,
   "metadata": {},
   "outputs": [],
   "source": []
  },
  {
   "cell_type": "markdown",
   "metadata": {
    "deletable": true,
    "editable": true
   },
   "source": [
    "** Documentation for functions **\n",
    "\n",
    "*Try this:* \n",
    "\n",
    "Write a docstring for your function and use ```help``` to read it. Also try pressing TAB on your own function.\n",
    "\n",
    "```python\n",
    "def calculate(x, y=2, *args):\n",
    "    \"\"\"Multiply `x` by `y` and then add any number provided extra.\n",
    "    By default, multiply by 2.\n",
    "    \"\"\"\n",
    "    res = x * y\n",
    "    if args:\n",
    "        res += sum(args)\n",
    "    return res\n",
    "\n",
    "help(calculate)\n",
    "```"
   ]
  },
  {
   "cell_type": "code",
   "execution_count": null,
   "metadata": {
    "deletable": true,
    "editable": true
   },
   "outputs": [],
   "source": [
    "# Type code here\n",
    "def calculate(x, y=2, *args):\n",
    "    \"\"\"Multiply `x` by `y` and then add any number provided extra.\n",
    "    By default, multiply by 2.\n",
    "    \"\"\"\n",
    "    res = x * y\n",
    "    if args:\n",
    "        res += sum(args)\n",
    "    return res"
   ]
  },
  {
   "cell_type": "code",
   "execution_count": null,
   "metadata": {},
   "outputs": [],
   "source": [
    "calculate"
   ]
  },
  {
   "cell_type": "markdown",
   "metadata": {
    "deletable": true,
    "editable": true
   },
   "source": [
    "** Scope **\n",
    "\n",
    "*Try this:* Can you access the variable ```x``` in ```func```?\n",
    "\n",
    "```python\n",
    "x = 5\n",
    "\n",
    "def func():\n",
    "    print(x)\n",
    "\n",
    "func()\n",
    "```"
   ]
  },
  {
   "cell_type": "code",
   "execution_count": null,
   "metadata": {},
   "outputs": [],
   "source": [
    "x = 5\n",
    "\n",
    "def func():\n",
    "    print(x)\n",
    "\n",
    "func()"
   ]
  },
  {
   "cell_type": "code",
   "execution_count": null,
   "metadata": {
    "deletable": true,
    "editable": true
   },
   "outputs": [],
   "source": [
    "# Type code here\n"
   ]
  },
  {
   "cell_type": "markdown",
   "metadata": {
    "deletable": true,
    "editable": true
   },
   "source": [
    "Which ```x``` are you looking at?\n",
    "\n",
    "```python\n",
    "x = 5\n",
    "\n",
    "def func():\n",
    "    x = 10\n",
    "    print(x)\n",
    "\n",
    "func()\n",
    "print(x)\n",
    "```"
   ]
  },
  {
   "cell_type": "code",
   "execution_count": null,
   "metadata": {
    "deletable": true,
    "editable": true
   },
   "outputs": [],
   "source": [
    "# Type code here\n",
    "x = 5\n",
    "\n",
    "def func():\n",
    "    x = 10\n",
    "    print(x)\n",
    "\n",
    "func()\n",
    "print(x)"
   ]
  },
  {
   "cell_type": "markdown",
   "metadata": {
    "deletable": true,
    "editable": true
   },
   "source": [
    "What about this?\n",
    "\n",
    "```python\n",
    "x = 5\n",
    "\n",
    "def func():\n",
    "    print(x)\n",
    "    x = 10\n",
    "\n",
    "func()\n",
    "print(x)\n",
    "```"
   ]
  },
  {
   "cell_type": "code",
   "execution_count": null,
   "metadata": {
    "deletable": true,
    "editable": true
   },
   "outputs": [],
   "source": [
    "# Type code here\n",
    "x = 5\n",
    "\n",
    "def func():\n",
    "    print(x)\n",
    "    x = 10\n",
    "\n",
    "func()\n",
    "print(x)"
   ]
  },
  {
   "cell_type": "markdown",
   "metadata": {
    "deletable": true,
    "editable": true
   },
   "source": [
    "Using ```global``` keyword:\n",
    "\n",
    "```python\n",
    "x = 5\n",
    "\n",
    "def func():\n",
    "    global x\n",
    "    print(x)\n",
    "    x = 10\n",
    "    print(x)\n",
    "    \n",
    "func()\n",
    "print(x)\n",
    "```"
   ]
  },
  {
   "cell_type": "code",
   "execution_count": null,
   "metadata": {
    "deletable": true,
    "editable": true
   },
   "outputs": [],
   "source": [
    "# Type code here\n",
    "x = 5\n",
    "\n",
    "def func():\n",
    "    global x\n",
    "    print(x)\n",
    "    x = 10\n",
    "    print(x)\n",
    "\n",
    "func()\n",
    "print(x)"
   ]
  },
  {
   "cell_type": "markdown",
   "metadata": {},
   "source": [
    "In most instances, it is better to avoid using globals for such operations as it makes code hard to troubleshoot. \n",
    "\n",
    "Consider this alternative that also modifies ```x``` in the global scope.\n",
    "```python\n",
    "x = 5 \n",
    "\n",
    "def func(arg):\n",
    "    print(arg)\n",
    "    arg = 10 \n",
    "    print(arg)\n",
    "    return arg \n",
    "    \n",
    "x = func(x)\n",
    "print(x)\n",
    "```"
   ]
  },
  {
   "cell_type": "code",
   "execution_count": null,
   "metadata": {},
   "outputs": [],
   "source": [
    "# Type code here\n",
    "x = 5 \n",
    "\n",
    "def func(arg):\n",
    "    print(arg)\n",
    "    arg = 10 \n",
    "    print(arg)\n",
    "    return arg \n",
    "\n",
    "x = func(x)\n",
    "print(x)"
   ]
  }
 ],
 "metadata": {
  "anaconda-cloud": {},
  "kernelspec": {
   "display_name": "Python 3 (sandboxed)",
   "language": "python",
   "name": "python3"
  },
  "language_info": {
   "codemirror_mode": {
    "name": "ipython",
    "version": 3
   },
   "file_extension": ".py",
   "mimetype": "text/x-python",
   "name": "python",
   "nbconvert_exporter": "python",
   "pygments_lexer": "ipython3",
   "version": "3.5.5"
  }
 },
 "nbformat": 4,
 "nbformat_minor": 4
}
