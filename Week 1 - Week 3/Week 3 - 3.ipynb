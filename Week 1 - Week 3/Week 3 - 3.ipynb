{
 "cells": [
  {
   "cell_type": "markdown",
   "metadata": {
    "deletable": true,
    "editable": true
   },
   "source": [
    "<span style='color: Rgb(255,160,40); font-size: 48px'> Python with BQNT<img src='../logo.png' height='48' width='200' align='right' style=\"padding: 20px\"> </span> <br>\n",
    "<span style='color: grey; font-size: 13px'> Information in this tutorial has been collected from various sources and condensed into a single notebook. \n",
    " </span>"
   ]
  },
  {
   "cell_type": "markdown",
   "metadata": {
    "deletable": true,
    "editable": true
   },
   "source": [
    "# Python Modules and the Standard Library"
   ]
  },
  {
   "cell_type": "markdown",
   "metadata": {
    "deletable": true,
    "editable": true
   },
   "source": [
    "### Import ###\n",
    "\n",
    "*Try this:* \n",
    "\n",
    "You may import from a .py file as a *module*. What is the difference among these?\n",
    "\n",
    "```python\n",
    "import utils\n",
    "import utils as u\n",
    "from utils import *\n",
    "from utils import do_dummy_thing, Dummy\n",
    "```\n",
    "\n",
    "You may also import *packages*. ```__init__.py``` makes a folder a package.\n",
    "\n",
    "<img src=\"https://cdn.programiz.com/sites/tutorial2program/files/PackageModuleStructure.jpg\" style=\"width=600px;\" />\n",
    "\n",
    "```python\n",
    "import numpy as np\n",
    "import pandas as pd\n",
    "```\n",
    "\n",
    "When you are importing a module / package, Python searches the following paths:\n",
    "\n",
    "- Directory containing the input script (or the current directory when no file is specified).\n",
    "- PYTHONPATH (a list of directory names, with the same syntax as the shell variable PATH).\n",
    "- The installation-dependent default"
   ]
  },
  {
   "cell_type": "markdown",
   "metadata": {
    "deletable": true,
    "editable": true
   },
   "source": [
    "### datetime module ### \n",
    "\n",
    "Import the module:\n",
    "\n",
    "```python\n",
    "import datetime\n",
    "```\n",
    "\n",
    "*Try this:* \n",
    "\n",
    "Work with date. Try autocompletion on the objects.\n",
    "\n",
    "```python\n",
    "ipo_date = datetime.date(2014, 9, 19)\n",
    "today = datetime.date.today()\n",
    "days_delta = today - ipo_date\n",
    "years_since_ipo = days_delta.days / 365\n",
    "```"
   ]
  },
  {
   "cell_type": "code",
   "execution_count": null,
   "metadata": {
    "deletable": true,
    "editable": true
   },
   "outputs": [],
   "source": [
    "# Type code here\n",
    "import datetime\n",
    "\n",
    "ipo_date = datetime.date(2014, 9, 19)\n",
    "today = datetime.date.today()\n",
    "days_delta = today - ipo_date\n",
    "\n",
    "days_delta.days /365"
   ]
  },
  {
   "cell_type": "markdown",
   "metadata": {
    "deletable": true,
    "editable": true
   },
   "source": [
    "*Try this:* \n",
    "\n",
    "Work with date and time. Try autocompletion on the objects.\n",
    "\n",
    "```python\n",
    "now = datetime.datetime.today()\n",
    "now = datetime.datetime.now()\n",
    "```"
   ]
  },
  {
   "cell_type": "code",
   "execution_count": null,
   "metadata": {
    "deletable": true,
    "editable": true
   },
   "outputs": [],
   "source": [
    "# Type code here\n"
   ]
  },
  {
   "cell_type": "markdown",
   "metadata": {
    "deletable": true,
    "editable": true
   },
   "source": [
    "*Try this:* \n",
    "\n",
    "Work with timedelta. Try autocompletion on the objects.\n",
    "\n",
    "```python\n",
    "now = datetime.datetime.today()\n",
    "offset = datetime.timedelta(days=-7, hours=-1)\n",
    "now + offset\n",
    "```"
   ]
  },
  {
   "cell_type": "code",
   "execution_count": null,
   "metadata": {
    "deletable": true,
    "editable": true
   },
   "outputs": [],
   "source": [
    "# Type code here\n"
   ]
  },
  {
   "cell_type": "markdown",
   "metadata": {
    "deletable": true,
    "editable": true
   },
   "source": [
    "<span style=\"color:darkorange; font-size:1em\"> Quick practice </span>\n",
    "\n",
    "Read the [documentation](https://docs.python.org/3/library/datetime.html) and try:\n",
    "\n",
    "Given the input ```dt = '12-Nov-17 13:30'```, calculate what would the time be 250 seconds ago, and generate an output like this: '2017-11-12 13:25:50'"
   ]
  },
  {
   "cell_type": "code",
   "execution_count": null,
   "metadata": {
    "deletable": true,
    "editable": true
   },
   "outputs": [],
   "source": [
    "# Type code here\n"
   ]
  },
  {
   "cell_type": "code",
   "execution_count": null,
   "metadata": {},
   "outputs": [],
   "source": [
    "# Uncomment below line and run to load solution\n",
    "# %load \"solutions/datetime_basic_operations.py"
   ]
  },
  {
   "cell_type": "markdown",
   "metadata": {
    "deletable": true,
    "editable": true
   },
   "source": [
    "<!--\n",
    "import datetime\n",
    "dt = '12-Nov-17 13:30'\n",
    "dt_obj = datetime.datetime.strptime(dt, \"%d-%b-%y %H:%M\")\n",
    "dt_obj = dt_obj - datetime.timedelta(seconds=250)\n",
    "dt_obj.strftime(\"%Y-%m-%d %H:%M:%S\")\n",
    "-->"
   ]
  },
  {
   "cell_type": "markdown",
   "metadata": {
    "deletable": true,
    "editable": true
   },
   "source": [
    "### Data Analysis Modules ###\n",
    "\n",
    "- **Numpy** supports large, multi-dimensional arrays and matrices in Python along with a library of math functions to operate on the arrays.\n",
    "- **Pandas** provides high-level data manipulation tools built on top of Numpy.\n",
    "- **SciPy** (not covered in Level 1) is a collection of math algorithms and functions built on top of Numpy.\n",
    "- **Scikit-learn** (not covered in Level 1) is a Python module for machine learning built on top of SciPy.\n",
    "\n",
    "<img src=\"https://image.slidesharecdn.com/1idanielrodriguez-160614230356/95/connecting-python-to-the-spark-ecosystem-3-638.jpg?cb=1465945555\" style=\"width:400px;\" />"
   ]
  },
  {
   "cell_type": "markdown",
   "metadata": {
    "deletable": true,
    "editable": true
   },
   "source": [
    "<span style=\"color:darkorange; font-size:1.5em\"> It's decision making time! Where to next? </span>\n",
    "\n",
    "1. Continue exploring Data Analysis modules with [NumPy](../02%20NumPy/NumPy.ipynb)\n",
    "1. Deeper dive into [Python Objects](Python%20Objects.ipynb)\n",
    "3. Give me some optional [exercises](Exercises/01%20Python%20Exercises%20.ipynb)"
   ]
  }
 ],
 "metadata": {
  "anaconda-cloud": {},
  "kernelspec": {
   "display_name": "Python 3 (sandboxed)",
   "language": "python",
   "name": "python3"
  },
  "language_info": {
   "codemirror_mode": {
    "name": "ipython",
    "version": 3
   },
   "file_extension": ".py",
   "mimetype": "text/x-python",
   "name": "python",
   "nbconvert_exporter": "python",
   "pygments_lexer": "ipython3",
   "version": "3.5.5"
  }
 },
 "nbformat": 4,
 "nbformat_minor": 4
}
