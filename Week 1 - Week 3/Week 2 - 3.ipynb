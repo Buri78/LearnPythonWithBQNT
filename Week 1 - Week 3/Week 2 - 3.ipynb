{
 "cells": [
  {
   "cell_type": "markdown",
   "metadata": {
    "deletable": true,
    "editable": true
   },
   "source": [
    "<span style='color: Rgb(255,160,40); font-size: 48px'> Python with BQNT<img src='../logo.png' height='48' width='200' align='right' style=\"padding: 20px\"> </span> <br>\n",
    "<span style='color: grey; font-size: 13px'> Information in this tutorial has been collected from various sources and condensed into a single notebook. \n",
    " </span>"
   ]
  },
  {
   "cell_type": "markdown",
   "metadata": {
    "deletable": true,
    "editable": true
   },
   "source": [
    "### Exceptions ###\n",
    "\n",
    "Usually:\n",
    "\n",
    "```python\n",
    "try:\n",
    "    #do something\n",
    "except:\n",
    "    #something bad happened: handle issue\n",
    "```\n",
    "\n",
    "But thoroughly: `try`, `except`, `else`, `finally`"
   ]
  },
  {
   "cell_type": "markdown",
   "metadata": {
    "deletable": true,
    "editable": true
   },
   "source": [
    "*Try this:* \n",
    "\n",
    "You may specify the exception to be handled in each block.\n",
    "\n",
    "```python\n",
    "user_input = 15 # Switch between 0, valid number, string\n",
    "\n",
    "try:\n",
    "    res = 150 / user_input\n",
    "    print(\"Result:\", res)\n",
    "except ZeroDivisionError:\n",
    "    print(\"You can't divide by 0!\")\n",
    "except IOError:\n",
    "    print(\"Problem opening file?\")\n",
    "except: # You should almost never use a broad exception catch like this!\n",
    "    print(\"Another error happened\")\n",
    "```"
   ]
  },
  {
   "cell_type": "code",
   "execution_count": null,
   "metadata": {},
   "outputs": [],
   "source": [
    "res = 150 / user_input"
   ]
  },
  {
   "cell_type": "code",
   "execution_count": null,
   "metadata": {
    "deletable": true,
    "editable": true
   },
   "outputs": [],
   "source": [
    "# Type code here\n",
    "user_input = 'asdfasdf'# Switch between 0, valid number, string\n",
    "\n",
    "try:\n",
    "    res = 150 / user_input\n",
    "    print(\"Result:\", res)\n",
    "except ZeroDivisionError:\n",
    "    print(\"You can't divide by 0!\")\n",
    "except IOError:\n",
    "    print(\"Problem opening file?\")\n",
    "except: # You should almost never use a broad exception catch like this!\n",
    "    print(\"Another error happened\")"
   ]
  },
  {
   "cell_type": "markdown",
   "metadata": {
    "deletable": true,
    "editable": true
   },
   "source": [
    "*Try this:* \n",
    "\n",
    "raise an exception.\n",
    "\n",
    "```python\n",
    "name = \"Bob\"\n",
    "age = 15 # Switch between neg and pos number\n",
    "\n",
    "if age < 0:\n",
    "    raise ValueError(\"The 'age' must be strictly positive\")\n",
    "    \n",
    "print(\"({}, {}) properly saved to database\".format(name, age))\n",
    "```"
   ]
  },
  {
   "cell_type": "code",
   "execution_count": null,
   "metadata": {
    "deletable": true,
    "editable": true
   },
   "outputs": [],
   "source": [
    "# Type code here\n",
    "name = \"Bob\"\n",
    "age = -1 # Switch between neg and pos number\n",
    "\n",
    "if age < 0:\n",
    "    raise ValueError(\"The 'age' must be strictly positive\")\n",
    "\n",
    "print(\"({}, {}) properly saved to database\".format(name, age))"
   ]
  },
  {
   "cell_type": "markdown",
   "metadata": {
    "deletable": true,
    "editable": true
   },
   "source": [
    "### Lambda expressions  ###\n",
    "\n",
    "Use a lambda function when you don't want to bother to give a name to your function because it's small/simple, or use it as argument to another function and it will never be used again.\n",
    "\n",
    "```python\n",
    "f = lambda arg1, ..., arg2: result\n",
    "```\n",
    "\n",
    "Can't use statements inside the function (e.g. `print()`). Note the absence of `return`."
   ]
  },
  {
   "cell_type": "markdown",
   "metadata": {
    "deletable": true,
    "editable": true
   },
   "source": [
    "*Try this:*\n",
    "\n",
    "By default it will be sorted alphabetically.\n",
    "\n",
    "```python\n",
    "names = [\"James\", \"Mark\", \"Alexandra\", \"Bob\", \"Philipp\", \"Zoe\"]\n",
    "sorted(names)\n",
    "```\n",
    "\n",
    "Now let's sort by length.\n",
    "\n",
    "```python\n",
    "sorted(names, keys=lambda item: len(item))\n",
    "```\n",
    "\n",
    "In fact an easier way to do this:\n",
    "\n",
    "```python\n",
    "sorted(names, key=len)\n",
    "```\n",
    "\n",
    "Combine lambda function and in-line if:\n",
    "\n",
    "```python\n",
    "pos_or_neg = lambda x: \"positive\" if x >= 0 else \"negative\"\n",
    "pos_or_neg(-54)\n",
    "```"
   ]
  },
  {
   "cell_type": "code",
   "execution_count": null,
   "metadata": {
    "deletable": true,
    "editable": true
   },
   "outputs": [],
   "source": [
    "# Type code here\n",
    "\n",
    "names = [\"James\", \"Mark\", \"Alexandra\", \"Bob\", \"Philipp\", \"Zoe\"]\n",
    "\n",
    "def sort_items(arg):\n",
    "    return len(arg)\n",
    "\n",
    "\n",
    "sorted(names, key=lambda item: len(item))"
   ]
  }
 ],
 "metadata": {
  "anaconda-cloud": {},
  "kernelspec": {
   "display_name": "Python 3 (sandboxed)",
   "language": "python",
   "name": "python3"
  },
  "language_info": {
   "codemirror_mode": {
    "name": "ipython",
    "version": 3
   },
   "file_extension": ".py",
   "mimetype": "text/x-python",
   "name": "python",
   "nbconvert_exporter": "python",
   "pygments_lexer": "ipython3",
   "version": "3.5.5"
  }
 },
 "nbformat": 4,
 "nbformat_minor": 4
}
