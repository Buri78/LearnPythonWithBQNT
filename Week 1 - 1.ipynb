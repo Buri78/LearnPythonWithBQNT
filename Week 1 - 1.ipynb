{
 "cells": [
  {
   "cell_type": "markdown",
   "metadata": {
    "deletable": true,
    "editable": true
   },
   "source": [
    "<span style='color: Rgb(255,160,40); font-size: 48px'> Python with BQNT<img src='logo.png' height='48' width='200' align='right' style=\"padding: 20px\"> </span> <br>\n",
    "<span style='color: grey; font-size: 13px'> Information in this tutorial has been collected from various sources and condensed into a single notebook. \n",
    " </span>"
   ]
  },
  {
   "cell_type": "markdown",
   "metadata": {
    "deletable": true,
    "editable": true
   },
   "source": [
    "## Data types\n",
    "\n",
    "### Numbers ###\n",
    "\n",
    "* `int` and `float`\n",
    "* Not talking about: `octal`, `heximal`, `binary`, `complex`, `Decimal`, `Fraction`\n",
    "\n",
    "Integers\n",
    "```python\n",
    "54\n",
    "-13\n",
    "```\n",
    "\n",
    "No size limit in Python:\n",
    "```python\n",
    "999 ** 100\n",
    "```\n",
    "\n",
    "Floats: all of these are valid. *Try this:*\n",
    "\n",
    "```python\n",
    "1.23\n",
    "1.\n",
    "3.14e-10\n",
    "4E210\n",
    "4.0e+210\n",
    "```\n",
    "\n",
    "Python knows your type automatically. *Try this:*\n",
    "\n",
    "```python\n",
    "print(type(555))\n",
    "print(type(-45.8787))\n",
    "```\n",
    "\n",
    "\n",
    "Operations:\n",
    "\n",
    "```python\n",
    "2 * 5 + 3 / 4 ** 8 - 1\n",
    "\n",
    "5/2\n",
    "5//2 # In Python 2, 5/2 used to behave like 5//2. People use to do 5/2.0 or 5/float(n)\n",
    "\n",
    "n = 1231983727\n",
    "n % 2\n",
    "```\n",
    "\n",
    "Built-in arithmetic functions:\n",
    "\n",
    "```python\n",
    "round(abs(pow(-4.3, 5)))\n",
    "```"
   ]
  },
  {
   "cell_type": "code",
   "execution_count": 8,
   "metadata": {},
   "outputs": [
    {
     "data": {
      "text/plain": [
       "1470.084"
      ]
     },
     "execution_count": 8,
     "metadata": {},
     "output_type": "execute_result"
    }
   ],
   "source": [
    "round(abs(pow(-4.3, 5)), 3)"
   ]
  },
  {
   "cell_type": "code",
   "execution_count": 1,
   "metadata": {
    "collapsed": false,
    "deletable": true,
    "editable": true,
    "jupyter": {
     "outputs_hidden": false
    }
   },
   "outputs": [
    {
     "data": {
      "text/plain": [
       "2"
      ]
     },
     "execution_count": 1,
     "metadata": {},
     "output_type": "execute_result"
    }
   ],
   "source": [
    "1 + 1"
   ]
  },
  {
   "cell_type": "code",
   "execution_count": 2,
   "metadata": {
    "collapsed": false,
    "deletable": true,
    "editable": true,
    "jupyter": {
     "outputs_hidden": false
    }
   },
   "outputs": [
    {
     "data": {
      "text/plain": [
       "3"
      ]
     },
     "execution_count": 2,
     "metadata": {},
     "output_type": "execute_result"
    }
   ],
   "source": [
    "1 * 3"
   ]
  },
  {
   "cell_type": "code",
   "execution_count": 3,
   "metadata": {
    "collapsed": false,
    "deletable": true,
    "editable": true,
    "jupyter": {
     "outputs_hidden": false
    }
   },
   "outputs": [
    {
     "data": {
      "text/plain": [
       "0.5"
      ]
     },
     "execution_count": 3,
     "metadata": {},
     "output_type": "execute_result"
    }
   ],
   "source": [
    "1 / 2"
   ]
  },
  {
   "cell_type": "code",
   "execution_count": 4,
   "metadata": {
    "collapsed": false,
    "deletable": true,
    "editable": true,
    "jupyter": {
     "outputs_hidden": false
    }
   },
   "outputs": [
    {
     "data": {
      "text/plain": [
       "16"
      ]
     },
     "execution_count": 4,
     "metadata": {},
     "output_type": "execute_result"
    }
   ],
   "source": [
    "2 ** 4"
   ]
  },
  {
   "cell_type": "code",
   "execution_count": 5,
   "metadata": {
    "collapsed": false,
    "deletable": true,
    "editable": true,
    "jupyter": {
     "outputs_hidden": false
    }
   },
   "outputs": [
    {
     "data": {
      "text/plain": [
       "0"
      ]
     },
     "execution_count": 5,
     "metadata": {},
     "output_type": "execute_result"
    }
   ],
   "source": [
    "4 % 2"
   ]
  },
  {
   "cell_type": "code",
   "execution_count": 6,
   "metadata": {
    "collapsed": false,
    "deletable": true,
    "editable": true,
    "jupyter": {
     "outputs_hidden": false
    }
   },
   "outputs": [
    {
     "data": {
      "text/plain": [
       "1"
      ]
     },
     "execution_count": 6,
     "metadata": {},
     "output_type": "execute_result"
    }
   ],
   "source": [
    "5 % 2"
   ]
  },
  {
   "cell_type": "code",
   "execution_count": 7,
   "metadata": {
    "collapsed": false,
    "deletable": true,
    "editable": true,
    "jupyter": {
     "outputs_hidden": false
    }
   },
   "outputs": [
    {
     "data": {
      "text/plain": [
       "50"
      ]
     },
     "execution_count": 7,
     "metadata": {},
     "output_type": "execute_result"
    }
   ],
   "source": [
    "(2 + 3) * (5 + 5)"
   ]
  },
  {
   "cell_type": "code",
   "execution_count": 9,
   "metadata": {
    "collapsed": false,
    "deletable": true,
    "editable": true,
    "jupyter": {
     "outputs_hidden": false
    }
   },
   "outputs": [
    {
     "name": "stdout",
     "output_type": "stream",
     "text": [
      "<class 'float'>\n"
     ]
    }
   ],
   "source": [
    "print(type(-45.8787))"
   ]
  },
  {
   "cell_type": "markdown",
   "metadata": {
    "deletable": true,
    "editable": true
   },
   "source": [
    "<span style=\"color:orange; font-size:1em\"> Quick practice </span>\n",
    "\n",
    "1. Assign an integer ```6758``` to variable called ```sony_id``` and inspect the available methods.\n",
    "2. Assign a float ```1.14``` to variable called ```eur_rate``` and inspect the available methods.\n",
    "3. Which of the following would fail? What could you do to fix it?\n",
    "\n",
    "```python\n",
    "int(2.145)\n",
    "float(5)\n",
    "float(\"3.4546\")\n",
    "int(\"36\")\n",
    "int(\"3.4546\")\n",
    "```"
   ]
  },
  {
   "cell_type": "code",
   "execution_count": null,
   "metadata": {
    "deletable": true,
    "editable": true
   },
   "outputs": [],
   "source": [
    "# Type code here\n",
    "sony_id = 6758.0\n"
   ]
  },
  {
   "cell_type": "markdown",
   "metadata": {
    "deletable": true,
    "editable": true
   },
   "source": [
    "### Variable Assignment"
   ]
  },
  {
   "cell_type": "code",
   "execution_count": null,
   "metadata": {
    "collapsed": false,
    "deletable": true,
    "editable": true,
    "jupyter": {
     "outputs_hidden": false
    }
   },
   "outputs": [],
   "source": [
    "# Can not start with number or special characters\n",
    "n1 = 2"
   ]
  },
  {
   "cell_type": "code",
   "execution_count": null,
   "metadata": {
    "deletable": true,
    "editable": true
   },
   "outputs": [],
   "source": [
    "n2 = 45"
   ]
  },
  {
   "cell_type": "code",
   "execution_count": null,
   "metadata": {
    "deletable": true,
    "editable": true
   },
   "outputs": [],
   "source": [
    "x = 2\n",
    "y = 3"
   ]
  },
  {
   "cell_type": "code",
   "execution_count": null,
   "metadata": {
    "deletable": true,
    "editable": true
   },
   "outputs": [],
   "source": [
    "z = x + y\n",
    "z"
   ]
  },
  {
   "cell_type": "code",
   "execution_count": null,
   "metadata": {
    "collapsed": false,
    "deletable": true,
    "editable": true,
    "jupyter": {
     "outputs_hidden": false
    }
   },
   "outputs": [],
   "source": [
    "z"
   ]
  },
  {
   "cell_type": "markdown",
   "metadata": {
    "deletable": true,
    "editable": true
   },
   "source": [
    "### Strings\n",
    "\n",
    "** Creating a string **\n",
    "\n",
    "You may use either double or single quote.\n",
    "\n",
    "```python\n",
    "s = \"\"\n",
    "x = ''\n",
    "```\n",
    "\n",
    "Special characters: ```\\n``` for newline, ```\\t``` for tab, and additional prefix ```\\``` escapes it from being recognized as special character.\n",
    "\n",
    "```python\n",
    "a = \"First Line\\nSecond Line\\nFirst col\\tSecond Col\"\n",
    "print(a)\n",
    "a = \"First Line\\\\nSecond Line\\\\nFirst col\\\\tSecond Col\"\n",
    "print(a)\n",
    "```\n",
    "\n",
    "You may also prepend a string with ```r``` to indicate that the string is \"raw\".\n",
    "\n",
    "```python\n",
    "path = \"C:\\\\temp\\\\demo\\\\file.py\"\n",
    "path = r\"C:\\temp\\demo\\file.py\"\n",
    "```\n",
    "\n",
    "Don't worry if your string is too long... But again, how do you make it to display as multiple lines?\n",
    "\n",
    "```python\n",
    "s = (\n",
    "    \"This string \"\n",
    "    \"is so long that it's \"\n",
    "    \"split on several lines.\"\n",
    ")\n",
    "```\n",
    "\n",
    "Concatenate strings\n",
    "\n",
    "```python\n",
    "\"hello\" + \"world\"\n",
    "```\n",
    "\n",
    "Repeat string\n",
    "\n",
    "```python\n",
    "'O_o' * 5\n",
    "```\n",
    "\n",
    "You also have multi-line strings!\n",
    "```python\n",
    "strng = \"\"\"\n",
    "Hello to the Feb18 BQuant class!\n",
    "Multi-line strings like this one are what people use in 'docstrings'\n",
    "\n",
    "Docstrings provide description to functions and classes\n",
    "\"\"\"\n",
    "\n",
    "print(strng)\n",
    "```"
   ]
  },
  {
   "cell_type": "code",
   "execution_count": null,
   "metadata": {},
   "outputs": [],
   "source": [
    "a = \"First Line\\nSecond Line\\nFirst col\\tSecond Col\"\n",
    "print(a)\n",
    "a = \"First Line\\\\nSecond Line\\\\nFirst col\\\\tSecond Col\"\n",
    "print(a)"
   ]
  },
  {
   "cell_type": "code",
   "execution_count": null,
   "metadata": {
    "deletable": true,
    "editable": true
   },
   "outputs": [],
   "source": [
    "# Type code here\n",
    "strng = \"\"\"\n",
    "Hello to the Feb18 BQuant class!\n",
    "Multi-line strings like this one are what people use in 'docstrings'\n",
    "\n",
    "Docstrings provide description to functions and classes\n",
    "\"\"\"\n",
    "\n",
    "strng"
   ]
  },
  {
   "cell_type": "markdown",
   "metadata": {
    "deletable": true,
    "editable": true
   },
   "source": [
    "### Printing"
   ]
  },
  {
   "cell_type": "code",
   "execution_count": null,
   "metadata": {
    "deletable": true,
    "editable": true
   },
   "outputs": [],
   "source": [
    "# Type code here\n",
    "print(strng)\n",
    "z  = x + y\n",
    "z"
   ]
  },
  {
   "cell_type": "markdown",
   "metadata": {
    "deletable": true,
    "editable": true
   },
   "source": [
    "Compare the following:\n",
    "\n",
    "```python\n",
    "ticker = 'USDJPY'\n",
    "px = 114.23\n",
    "\n",
    "s = 'FX Price: ' + ticker + ' is ' + str(px) + '.'\n",
    "s = 'FX Price: %s is %i.' % (ticker, px)\n",
    "```\n",
    "\n",
    "*Try this:* Try use ```%%timeit``` magic to time these two approaches.\n",
    "\n",
    "Also you may use ```format``` which supports richer functionalities:\n",
    "\n",
    "```python\n",
    "name = 'Bob'\n",
    "age = 43\n",
    "\n",
    "s = 'My name is {} and I am {} years old.'.format(name, age)\n",
    "s = 'I am {1} years old, and my name is {0}. Wait... {1} years old??'.format(name, age)\n",
    "s = 'My name is {name}. I am from the {region} of {country}'.format(region='North', name='Francois', country='France')\n",
    "```"
   ]
  },
  {
   "cell_type": "code",
   "execution_count": null,
   "metadata": {
    "deletable": true,
    "editable": true
   },
   "outputs": [],
   "source": [
    "# Type code here\n"
   ]
  },
  {
   "cell_type": "markdown",
   "metadata": {
    "deletable": true,
    "editable": true
   },
   "source": [
    "[Check out PyFormat](https://pyformat.info/) for all your formatting needs."
   ]
  },
  {
   "cell_type": "markdown",
   "metadata": {
    "deletable": true,
    "editable": true
   },
   "source": [
    "<span style=\"color:darkorange; font-size:1em\"> Quick practice </span>\n",
    "\n",
    "1. Write codes to print this with only one `print` statement (there are 8 dashes there):\n",
    "\n",
    "`\n",
    "+--------+\n",
    "HELLO\n",
    "+--------+\n",
    "`\n",
    "\n",
    "2. Try using autocompletion on print and find out how to customize separators and end of line delimiters"
   ]
  },
  {
   "cell_type": "code",
   "execution_count": null,
   "metadata": {
    "deletable": true,
    "editable": true
   },
   "outputs": [],
   "source": [
    "# Write code here.\n"
   ]
  },
  {
   "cell_type": "code",
   "execution_count": 1,
   "metadata": {},
   "outputs": [],
   "source": [
    "# %load solutions/print_with_dashes.py\n"
   ]
  },
  {
   "cell_type": "markdown",
   "metadata": {
    "deletable": true,
    "editable": true
   },
   "source": [
    "Python strings are sequences. *Try this (you already know loops, but if you don't we discuss them further down):*\n",
    "\n",
    "```python\n",
    "print(len('abc'))\n",
    "\n",
    "for c in 'abc':\n",
    "    print(c)\n",
    "```\n",
    "\n",
    "<img src=\"http://www.nltk.org/images/string-slicing.png\" style=\"width:600px;\" />"
   ]
  },
  {
   "cell_type": "code",
   "execution_count": null,
   "metadata": {
    "deletable": true,
    "editable": true
   },
   "outputs": [],
   "source": [
    "# Type code here\n",
    "for c in 'abc':\n",
    "    print(c)\n"
   ]
  },
  {
   "cell_type": "markdown",
   "metadata": {
    "deletable": true,
    "editable": true
   },
   "source": [
    "<span style=\"color:darkorange; font-size:1em\"> Quick practice </span>\n",
    "\n",
    "1. Try to print the last 6 character (Yellow key) of ```ticker```.\n",
    "2. Given the below string, print the alphabets (without numbers) in reverse order (be careful with the trailing space).\n",
    "\n",
    "```python\n",
    "ticker = 'VOD LN Equity'\n",
    "mixed_string = 'a1b2c3d4 '\n",
    "```"
   ]
  },
  {
   "cell_type": "code",
   "execution_count": null,
   "metadata": {
    "deletable": true,
    "editable": true
   },
   "outputs": [],
   "source": [
    "# Write code here.\n"
   ]
  },
  {
   "cell_type": "code",
   "execution_count": 9,
   "metadata": {},
   "outputs": [],
   "source": [
    "# Uncomment below line and run to load solution\n",
    "# %load solutions/reverse_alphabet.py"
   ]
  },
  {
   "cell_type": "markdown",
   "metadata": {
    "deletable": true,
    "editable": true
   },
   "source": [
    "** Updating a string and other operations **\n",
    "\n",
    "One important thing is you cannot amend a string in-place (this is called *immutability*). *Try this:*\n",
    "\n",
    "```python\n",
    "yk = 'equity'\n",
    "yk[0] = 'E'\n",
    "yk = yk.replace('e', 'E')\n",
    "```\n",
    "\n",
    "*Explore this:* Is the above the best solution for capitalizing 'equity' to 'Equity'? What should we do with 'Crncy'?\n",
    "\n",
    "Check if a string is part of another string:\n",
    "\n",
    "```python\n",
    "yk in '7203 jt equity'\n",
    "```\n",
    "\n",
    "Check out other operations by doing autocompletion on a string."
   ]
  },
  {
   "cell_type": "code",
   "execution_count": 4,
   "metadata": {},
   "outputs": [
    {
     "data": {
      "text/plain": [
       "'Equity'"
      ]
     },
     "execution_count": 4,
     "metadata": {},
     "output_type": "execute_result"
    }
   ],
   "source": [
    "yk = 'equity'\n",
    "# yk[0] = 'E'\n",
    "yk = yk.replace('e', 'E')\n",
    "yk"
   ]
  },
  {
   "cell_type": "code",
   "execution_count": 5,
   "metadata": {
    "deletable": true,
    "editable": true
   },
   "outputs": [
    {
     "data": {
      "text/plain": [
       "False"
      ]
     },
     "execution_count": 5,
     "metadata": {},
     "output_type": "execute_result"
    }
   ],
   "source": [
    "# Type code here\n",
    "yk in '7203 jt equity'"
   ]
  },
  {
   "cell_type": "markdown",
   "metadata": {
    "deletable": true,
    "editable": true
   },
   "source": [
    "<span style=\"color:darkorange; font-size:1em\"> Quick practice </span>\n",
    "\n",
    "1. Write code to check if a ticker is a Govt yellow key ticker (showing ```True``` if it is).\n",
    "2. How do you make sure your code works if the ticker is all in lower caps or all in upper caps?\n",
    "3. How do you make sure your code still works (by showing ```False```) if the ticker is GOVT US Equity?\n",
    "4. Try doing this with ```endswith``` function.\n",
    "5. How do you make sure your code still works (by showing ```False```) if the ticker is an invalid one like 'Govt'\n",
    "\n",
    "*Explore this:\n",
    "\n",
    "```python\n",
    "ticker = 'EURJPY EBS Curncy'\n",
    "```\n",
    "\n",
    "6. How to replace pricing source with ```BGN```?\n",
    "7. How to handle any arbitrary source and any length of ticker (i.e. it could be 'JPY CMPL Curncy')?"
   ]
  },
  {
   "cell_type": "code",
   "execution_count": null,
   "metadata": {
    "deletable": true,
    "editable": true
   },
   "outputs": [],
   "source": [
    "# Type code here\n"
   ]
  },
  {
   "cell_type": "code",
   "execution_count": null,
   "metadata": {},
   "outputs": [],
   "source": [
    "# Uncomment below line and run to load solution\n",
    "# %load solutions/govement_yellow_key_manipulations.py"
   ]
  }
 ],
 "metadata": {
  "anaconda-cloud": {},
  "kernelspec": {
   "display_name": "Python 3 (sandboxed)",
   "language": "python",
   "name": "python3"
  },
  "language_info": {
   "codemirror_mode": {
    "name": "ipython",
    "version": 3
   },
   "file_extension": ".py",
   "mimetype": "text/x-python",
   "name": "python",
   "nbconvert_exporter": "python",
   "pygments_lexer": "ipython3",
   "version": "3.7.1"
  }
 },
 "nbformat": 4,
 "nbformat_minor": 4
}
