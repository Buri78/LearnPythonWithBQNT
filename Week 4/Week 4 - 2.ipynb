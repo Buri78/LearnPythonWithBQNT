{
 "cells": [
  {
   "cell_type": "markdown",
   "metadata": {
    "deletable": true,
    "editable": true
   },
   "source": [
    "<span style='color: Rgb(255,160,40); font-size: 48px'> Python with BQNT<img src='../logo.png' height='48' width='200' align='right' style=\"padding: 20px\"> </span> <br>\n",
    "<span style='color: grey; font-size: 13px'> Information in this tutorial has been collected from various sources and condensed into a single notebook. \n",
    " </span>"
   ]
  },
  {
   "cell_type": "markdown",
   "metadata": {},
   "source": [
    "** Retrieve data with Bloomberg Query Language **\n",
    "\n",
    "*A quick demo with BQL Editor*\n",
    "\n",
    "*Link for BQL Basics Webinar Video:*\n",
    "\n",
    "https://bloomberg.cwebcast.com/ses/jXAdkrDNj-lPJiwE5vbzIA~~?ek=bbcbe277-1dd1-48cd-91a9-f375453f4c05\n",
    "\n",
    "```python\n",
    "\n",
    "import bql\n",
    "bq = bql.Service()\n",
    "\n",
    "```\n",
    "\n",
    "Two essential lines to be ready to get the data from Bloomberg"
   ]
  },
  {
   "cell_type": "code",
   "execution_count": 11,
   "metadata": {},
   "outputs": [],
   "source": [
    "import bql\n",
    "bq = bql.Service()"
   ]
  },
  {
   "cell_type": "markdown",
   "metadata": {},
   "source": [
    "Query string like how we use in Excel"
   ]
  },
  {
   "cell_type": "code",
   "execution_count": 18,
   "metadata": {},
   "outputs": [
    {
     "data": {
      "text/html": [
       "<div>\n",
       "<table border=\"1\" class=\"dataframe\">\n",
       "  <thead>\n",
       "    <tr style=\"text-align: right;\">\n",
       "      <th></th>\n",
       "      <th>DATE</th>\n",
       "      <th>CURRENCY</th>\n",
       "      <th>PX_LAST</th>\n",
       "    </tr>\n",
       "    <tr>\n",
       "      <th>ID</th>\n",
       "      <th></th>\n",
       "      <th></th>\n",
       "      <th></th>\n",
       "    </tr>\n",
       "  </thead>\n",
       "  <tbody>\n",
       "    <tr>\n",
       "      <th>AXP UN Equity</th>\n",
       "      <td>2020-04-01</td>\n",
       "      <td>USD</td>\n",
       "      <td>80.300003</td>\n",
       "    </tr>\n",
       "    <tr>\n",
       "      <th>VZ UN Equity</th>\n",
       "      <td>2020-04-01</td>\n",
       "      <td>USD</td>\n",
       "      <td>53.334999</td>\n",
       "    </tr>\n",
       "    <tr>\n",
       "      <th>BA UN Equity</th>\n",
       "      <td>2020-04-01</td>\n",
       "      <td>USD</td>\n",
       "      <td>141.479996</td>\n",
       "    </tr>\n",
       "    <tr>\n",
       "      <th>CAT UN Equity</th>\n",
       "      <td>2020-04-01</td>\n",
       "      <td>USD</td>\n",
       "      <td>114.370003</td>\n",
       "    </tr>\n",
       "    <tr>\n",
       "      <th>JPM UN Equity</th>\n",
       "      <td>2020-04-01</td>\n",
       "      <td>USD</td>\n",
       "      <td>85.855003</td>\n",
       "    </tr>\n",
       "  </tbody>\n",
       "</table>\n",
       "</div>"
      ],
      "text/plain": [
       "                    DATE CURRENCY     PX_LAST\n",
       "ID                                           \n",
       "AXP UN Equity 2020-04-01      USD   80.300003\n",
       "VZ UN Equity  2020-04-01      USD   53.334999\n",
       "BA UN Equity  2020-04-01      USD  141.479996\n",
       "CAT UN Equity 2020-04-01      USD  114.370003\n",
       "JPM UN Equity 2020-04-01      USD   85.855003"
      ]
     },
     "execution_count": 18,
     "metadata": {},
     "output_type": "execute_result"
    }
   ],
   "source": [
    "q = \"\"\"\n",
    "\n",
    "get(PX_LAST)\n",
    "for(MEMBERS('INDU Index'))\n",
    "\n",
    "\"\"\"\n",
    "\n",
    "res = bq.execute(q)\n",
    "df = res[0].df()\n",
    "df.head()"
   ]
  },
  {
   "cell_type": "code",
   "execution_count": 19,
   "metadata": {},
   "outputs": [
    {
     "data": {
      "text/html": [
       "<div>\n",
       "<table border=\"1\" class=\"dataframe\">\n",
       "  <thead>\n",
       "    <tr style=\"text-align: right;\">\n",
       "      <th></th>\n",
       "      <th>DATE</th>\n",
       "      <th>CURRENCY</th>\n",
       "      <th>PX_LAST()</th>\n",
       "    </tr>\n",
       "    <tr>\n",
       "      <th>ID</th>\n",
       "      <th></th>\n",
       "      <th></th>\n",
       "      <th></th>\n",
       "    </tr>\n",
       "  </thead>\n",
       "  <tbody>\n",
       "    <tr>\n",
       "      <th>OR FP Equity</th>\n",
       "      <td>2020-04-01</td>\n",
       "      <td>EUR</td>\n",
       "      <td>233.000000</td>\n",
       "    </tr>\n",
       "    <tr>\n",
       "      <th>DG FP Equity</th>\n",
       "      <td>2020-04-01</td>\n",
       "      <td>EUR</td>\n",
       "      <td>68.300003</td>\n",
       "    </tr>\n",
       "    <tr>\n",
       "      <th>URW NA Equity</th>\n",
       "      <td>2020-04-01</td>\n",
       "      <td>EUR</td>\n",
       "      <td>49.169998</td>\n",
       "    </tr>\n",
       "    <tr>\n",
       "      <th>FP FP Equity</th>\n",
       "      <td>2020-04-01</td>\n",
       "      <td>EUR</td>\n",
       "      <td>35.880001</td>\n",
       "    </tr>\n",
       "    <tr>\n",
       "      <th>AI FP Equity</th>\n",
       "      <td>2020-04-01</td>\n",
       "      <td>EUR</td>\n",
       "      <td>113.449997</td>\n",
       "    </tr>\n",
       "  </tbody>\n",
       "</table>\n",
       "</div>"
      ],
      "text/plain": [
       "                    DATE CURRENCY   PX_LAST()\n",
       "ID                                           \n",
       "OR FP Equity  2020-04-01      EUR  233.000000\n",
       "DG FP Equity  2020-04-01      EUR   68.300003\n",
       "URW NA Equity 2020-04-01      EUR   49.169998\n",
       "FP FP Equity  2020-04-01      EUR   35.880001\n",
       "AI FP Equity  2020-04-01      EUR  113.449997"
      ]
     },
     "execution_count": 19,
     "metadata": {},
     "output_type": "execute_result"
    }
   ],
   "source": [
    "bql_item = bq.data.px_last()\n",
    "\n",
    "bql_universe = bq.univ.members('CAC Index')\n",
    "\n",
    "bql_request = bql.Request(bql_universe, bql_item)\n",
    "bql_response = bq.execute(bql_request)\n",
    "\n",
    "df = bql_response[0].df()\n",
    "df.head()"
   ]
  },
  {
   "cell_type": "code",
   "execution_count": 2,
   "metadata": {},
   "outputs": [],
   "source": [
    "import pandas as pd\n",
    "\n",
    "df = pd.DataFrame.from_csv(\"stock_data.csv\")"
   ]
  },
  {
   "cell_type": "markdown",
   "metadata": {
    "deletable": true,
    "editable": true
   },
   "source": [
    "** Retrieve data **\n",
    "\n",
    "*Try this:* \n",
    "\n",
    "Why can we not use . notation for '1YR TR'?\n",
    "\n",
    "```python\n",
    "df.Close\n",
    "df['1YR TR']\n",
    "```"
   ]
  },
  {
   "cell_type": "code",
   "execution_count": 36,
   "metadata": {
    "deletable": true,
    "editable": true
   },
   "outputs": [],
   "source": [
    "# Type code here\n"
   ]
  },
  {
   "cell_type": "markdown",
   "metadata": {
    "deletable": true,
    "editable": true
   },
   "source": [
    "*Try this:* \n",
    "\n",
    "Note each column is a Series so everything we learnt previously can be used in DataFrame.\n",
    "\n",
    "```python\n",
    "type(df.Close)\n",
    "```"
   ]
  },
  {
   "cell_type": "code",
   "execution_count": 3,
   "metadata": {
    "deletable": true,
    "editable": true
   },
   "outputs": [
    {
     "data": {
      "text/plain": [
       "Ticker\n",
       "AIR FP Equity         73.910\n",
       "SAF FP Equity         81.890\n",
       "BA UN Equity         201.810\n",
       "UTX UN Equity        122.790\n",
       "6902 JT Equity      4793.000\n",
       "FR FP Equity          59.510\n",
       "ML FP Equity         117.900\n",
       "7201 JT Equity      1139.000\n",
       "7203 JT Equity      6107.000\n",
       "7267 JT Equity      3094.000\n",
       "RNO FP Equity         79.840\n",
       "UG FP Equity          17.895\n",
       "8306 JT Equity       761.200\n",
       "8316 JT Equity      4410.000\n",
       "8411 JT Equity       207.600\n",
       "ACA FP Equity         14.645\n",
       "BNP FP Equity         64.470\n",
       "GLE FP Equity         49.000\n",
       "JPM UN Equity         93.680\n",
       "RI FP Equity         117.000\n",
       "KO UN Equity          44.820\n",
       "SGO FP Equity         47.655\n",
       "GS UN Equity         228.040\n",
       "4063 JT Equity      9875.000\n",
       "AI FP Equity         108.650\n",
       "SOLB BB Equity       120.450\n",
       "DD UN Equity          81.220\n",
       "NOKIA FP Equity        5.467\n",
       "CSCO UW Equity        31.110\n",
       "DG FP Equity          75.340\n",
       "                     ...    \n",
       "ENGI FP Equity        13.285\n",
       "VIE FP Equity         18.580\n",
       "FP FP Equity          43.325\n",
       "CVX UN Equity        104.620\n",
       "XOM UN Equity         80.850\n",
       "OR FP Equity         181.500\n",
       "4502 JT Equity      5668.000\n",
       "4503 JT Equity      1375.000\n",
       "SAN FP Equity         84.220\n",
       "JNJ UN Equity        133.640\n",
       "MRK UN Equity         64.160\n",
       "PFE UN Equity         33.640\n",
       "8801 JT Equity      2638.500\n",
       "8802 JT Equity      2058.000\n",
       "9020 JT Equity     10740.000\n",
       "9022 JT Equity     18005.000\n",
       "INTC UW Equity        34.340\n",
       "MSFT UW Equity        69.080\n",
       "HD UN Equity         152.690\n",
       "7751 JT Equity      3784.000\n",
       "AAPL UW Equity       144.090\n",
       "KER FP Equity        303.500\n",
       "MC FP Equity         221.800\n",
       "NKE UN Equity         57.560\n",
       "2914 JT Equity      3868.000\n",
       "8031 JT Equity      1609.000\n",
       "8058 JT Equity      2383.000\n",
       "9433 JT Equity      2988.000\n",
       "9437 JT Equity      2644.000\n",
       "9984 JT Equity      8960.000\n",
       "Name: Close, dtype: float64"
      ]
     },
     "execution_count": 3,
     "metadata": {},
     "output_type": "execute_result"
    }
   ],
   "source": [
    "# Type code here\n",
    "df['Close']"
   ]
  },
  {
   "cell_type": "markdown",
   "metadata": {
    "deletable": true,
    "editable": true
   },
   "source": [
    "*Try this:* \n",
    "    \n",
    "Different ways of selecting.\n",
    "\n",
    "```python\n",
    "df[['Close', 'Name']]\n",
    "df.loc['AAPL UW Equity']\n",
    "df.iloc[10]\n",
    "df.loc[['AAPL UW Equity', '7751 JT Equity']]\n",
    "```"
   ]
  },
  {
   "cell_type": "markdown",
   "metadata": {
    "deletable": true,
    "editable": true
   },
   "source": [
    "** Filtering **\n",
    "\n",
    "<span style=\"color:darkorange; font-size:1em\"> Quick practice </span>\n",
    "\n",
    "Output all the stocks that grew more than 10% over 5YR but with a negative TR for the past year."
   ]
  },
  {
   "cell_type": "code",
   "execution_count": 80,
   "metadata": {},
   "outputs": [],
   "source": [
    "# Type Code here\n"
   ]
  },
  {
   "cell_type": "code",
   "execution_count": 4,
   "metadata": {},
   "outputs": [
    {
     "data": {
      "text/html": [
       "<div>\n",
       "<table border=\"1\" class=\"dataframe\">\n",
       "  <thead>\n",
       "    <tr style=\"text-align: right;\">\n",
       "      <th></th>\n",
       "      <th>Currency</th>\n",
       "      <th>Name</th>\n",
       "      <th>Industry</th>\n",
       "      <th>Close</th>\n",
       "      <th>1YR TR</th>\n",
       "      <th>5YR TR</th>\n",
       "    </tr>\n",
       "    <tr>\n",
       "      <th>Ticker</th>\n",
       "      <th></th>\n",
       "      <th></th>\n",
       "      <th></th>\n",
       "      <th></th>\n",
       "      <th></th>\n",
       "      <th></th>\n",
       "    </tr>\n",
       "  </thead>\n",
       "  <tbody>\n",
       "    <tr>\n",
       "      <th>EI FP Equity</th>\n",
       "      <td>EUR</td>\n",
       "      <td>ESSILOR INTL</td>\n",
       "      <td>Health Care Equipment &amp; Suppli</td>\n",
       "      <td>113.30</td>\n",
       "      <td>-2.187401</td>\n",
       "      <td>10.19808</td>\n",
       "    </tr>\n",
       "    <tr>\n",
       "      <th>4503 JT Equity</th>\n",
       "      <td>JPY</td>\n",
       "      <td>ASTELLAS PHARMA</td>\n",
       "      <td>Pharmaceuticals</td>\n",
       "      <td>1375.00</td>\n",
       "      <td>-11.724400</td>\n",
       "      <td>17.01027</td>\n",
       "    </tr>\n",
       "    <tr>\n",
       "      <th>PFE UN Equity</th>\n",
       "      <td>USD</td>\n",
       "      <td>PFIZER INC</td>\n",
       "      <td>Pharmaceuticals</td>\n",
       "      <td>33.64</td>\n",
       "      <td>-2.546640</td>\n",
       "      <td>12.21446</td>\n",
       "    </tr>\n",
       "    <tr>\n",
       "      <th>2914 JT Equity</th>\n",
       "      <td>JPY</td>\n",
       "      <td>JAPAN TOBACCO</td>\n",
       "      <td>Tobacco</td>\n",
       "      <td>3868.00</td>\n",
       "      <td>-6.600924</td>\n",
       "      <td>13.99832</td>\n",
       "    </tr>\n",
       "    <tr>\n",
       "      <th>9433 JT Equity</th>\n",
       "      <td>JPY</td>\n",
       "      <td>KDDI CORP</td>\n",
       "      <td>Wireless Telecommunication Ser</td>\n",
       "      <td>2988.00</td>\n",
       "      <td>-5.899152</td>\n",
       "      <td>30.89987</td>\n",
       "    </tr>\n",
       "    <tr>\n",
       "      <th>9437 JT Equity</th>\n",
       "      <td>JPY</td>\n",
       "      <td>NTT DOCOMO INC</td>\n",
       "      <td>Wireless Telecommunication Ser</td>\n",
       "      <td>2644.00</td>\n",
       "      <td>-5.470530</td>\n",
       "      <td>18.94273</td>\n",
       "    </tr>\n",
       "  </tbody>\n",
       "</table>\n",
       "</div>"
      ],
      "text/plain": [
       "               Currency             Name                        Industry  \\\n",
       "Ticker                                                                     \n",
       "EI FP Equity        EUR     ESSILOR INTL  Health Care Equipment & Suppli   \n",
       "4503 JT Equity      JPY  ASTELLAS PHARMA                 Pharmaceuticals   \n",
       "PFE UN Equity       USD       PFIZER INC                 Pharmaceuticals   \n",
       "2914 JT Equity      JPY    JAPAN TOBACCO                         Tobacco   \n",
       "9433 JT Equity      JPY        KDDI CORP  Wireless Telecommunication Ser   \n",
       "9437 JT Equity      JPY   NTT DOCOMO INC  Wireless Telecommunication Ser   \n",
       "\n",
       "                  Close     1YR TR    5YR TR  \n",
       "Ticker                                        \n",
       "EI FP Equity     113.30  -2.187401  10.19808  \n",
       "4503 JT Equity  1375.00 -11.724400  17.01027  \n",
       "PFE UN Equity     33.64  -2.546640  12.21446  \n",
       "2914 JT Equity  3868.00  -6.600924  13.99832  \n",
       "9433 JT Equity  2988.00  -5.899152  30.89987  \n",
       "9437 JT Equity  2644.00  -5.470530  18.94273  "
      ]
     },
     "execution_count": 4,
     "metadata": {},
     "output_type": "execute_result"
    }
   ],
   "source": [
    "import pandas as pd\n",
    "df = pd.DataFrame.from_csv(\"stock_data.csv\")\n",
    "df[(df['5YR TR'] > 10) & (df['1YR TR'] < 0) ]"
   ]
  },
  {
   "cell_type": "markdown",
   "metadata": {
    "deletable": true,
    "editable": true
   },
   "source": [
    "<!--\n",
    "negative_5yr = df[\"5YR TR\"] >= 10\n",
    "ten_plus_1yr = df[\"1YR TR\"] < 0\n",
    "df[negative_5yr & ten_plus_1yr]\n",
    "-->"
   ]
  },
  {
   "cell_type": "markdown",
   "metadata": {
    "deletable": true,
    "editable": true
   },
   "source": [
    "*Try this:*\n",
    "\n",
    "```python\n",
    "df[df.Industry.isin([\"Tobacco\", \"Pharmaceuticals\"])]\n",
    "df[df.Name.str.contains(\"JAPAN\")]\n",
    "```"
   ]
  },
  {
   "cell_type": "code",
   "execution_count": 5,
   "metadata": {
    "deletable": true,
    "editable": true
   },
   "outputs": [
    {
     "data": {
      "text/html": [
       "<div>\n",
       "<table border=\"1\" class=\"dataframe\">\n",
       "  <thead>\n",
       "    <tr style=\"text-align: right;\">\n",
       "      <th></th>\n",
       "      <th>Currency</th>\n",
       "      <th>Name</th>\n",
       "      <th>Industry</th>\n",
       "      <th>Close</th>\n",
       "      <th>1YR TR</th>\n",
       "      <th>5YR TR</th>\n",
       "    </tr>\n",
       "    <tr>\n",
       "      <th>Ticker</th>\n",
       "      <th></th>\n",
       "      <th></th>\n",
       "      <th></th>\n",
       "      <th></th>\n",
       "      <th></th>\n",
       "      <th></th>\n",
       "    </tr>\n",
       "  </thead>\n",
       "  <tbody>\n",
       "    <tr>\n",
       "      <th>9020 JT Equity</th>\n",
       "      <td>JPY</td>\n",
       "      <td>EAST JAPAN RAIL</td>\n",
       "      <td>Road &amp; Rail</td>\n",
       "      <td>10740.0</td>\n",
       "      <td>13.172650</td>\n",
       "      <td>18.14866</td>\n",
       "    </tr>\n",
       "    <tr>\n",
       "      <th>9022 JT Equity</th>\n",
       "      <td>JPY</td>\n",
       "      <td>CENTRAL JAPAN RL</td>\n",
       "      <td>Road &amp; Rail</td>\n",
       "      <td>18005.0</td>\n",
       "      <td>0.279088</td>\n",
       "      <td>24.37049</td>\n",
       "    </tr>\n",
       "    <tr>\n",
       "      <th>2914 JT Equity</th>\n",
       "      <td>JPY</td>\n",
       "      <td>JAPAN TOBACCO</td>\n",
       "      <td>Tobacco</td>\n",
       "      <td>3868.0</td>\n",
       "      <td>-6.600924</td>\n",
       "      <td>13.99832</td>\n",
       "    </tr>\n",
       "  </tbody>\n",
       "</table>\n",
       "</div>"
      ],
      "text/plain": [
       "               Currency              Name     Industry    Close     1YR TR  \\\n",
       "Ticker                                                                       \n",
       "9020 JT Equity      JPY   EAST JAPAN RAIL  Road & Rail  10740.0  13.172650   \n",
       "9022 JT Equity      JPY  CENTRAL JAPAN RL  Road & Rail  18005.0   0.279088   \n",
       "2914 JT Equity      JPY     JAPAN TOBACCO      Tobacco   3868.0  -6.600924   \n",
       "\n",
       "                  5YR TR  \n",
       "Ticker                    \n",
       "9020 JT Equity  18.14866  \n",
       "9022 JT Equity  24.37049  \n",
       "2914 JT Equity  13.99832  "
      ]
     },
     "execution_count": 5,
     "metadata": {},
     "output_type": "execute_result"
    }
   ],
   "source": [
    "# Type code here\n",
    "df[df.Name.str.contains(\"JAPAN\")]"
   ]
  },
  {
   "cell_type": "markdown",
   "metadata": {
    "deletable": true,
    "editable": true
   },
   "source": [
    "*Try this:* \n",
    "\n",
    "What is the difference and which one is faster?\n",
    "\n",
    "```python\n",
    "df.loc[df.Name.str.contains(\"JAPAN\"), [\"Name\", \"5YR TR\"]]\n",
    "df[df.Name.str.contains(\"JAPAN\")][[\"Name\", \"5YR TR\"]]\n",
    "```"
   ]
  },
  {
   "cell_type": "code",
   "execution_count": 6,
   "metadata": {
    "deletable": true,
    "editable": true
   },
   "outputs": [
    {
     "name": "stdout",
     "output_type": "stream",
     "text": [
      "1000 loops, best of 3: 1.13 ms per loop\n"
     ]
    }
   ],
   "source": [
    "%%timeit\n",
    "df.loc[df.Name.str.contains(\"JAPAN\"), [\"Name\", \"5YR TR\"]]"
   ]
  },
  {
   "cell_type": "code",
   "execution_count": 7,
   "metadata": {},
   "outputs": [
    {
     "name": "stdout",
     "output_type": "stream",
     "text": [
      "1000 loops, best of 3: 858 µs per loop\n"
     ]
    }
   ],
   "source": [
    "%%timeit\n",
    "df[df.Name.str.contains(\"JAPAN\")][[\"Name\", \"5YR TR\"]]"
   ]
  },
  {
   "cell_type": "markdown",
   "metadata": {
    "deletable": true,
    "editable": true
   },
   "source": [
    "** Sort and group **\n",
    "\n",
    "<span style=\"color:darkorange; font-size:1em\"> Quick practice </span>\n",
    "\n",
    "Find and use the sort function to show the Top 10 with the biggest 5YR Return."
   ]
  },
  {
   "cell_type": "code",
   "execution_count": 38,
   "metadata": {
    "deletable": true,
    "editable": true
   },
   "outputs": [],
   "source": [
    "# Type code here\n",
    "\n",
    "\n"
   ]
  },
  {
   "cell_type": "markdown",
   "metadata": {
    "deletable": true,
    "editable": true
   },
   "source": [
    "<span style=\"color:darkorange; font-size:1em\"> Quick practice </span>\n",
    "\n",
    "How to sort on both Industry and 1YR TR?\n",
    "\n",
    "Note the na_position parameter, which is useful when NaN presents."
   ]
  },
  {
   "cell_type": "code",
   "execution_count": 39,
   "metadata": {
    "deletable": true,
    "editable": true
   },
   "outputs": [],
   "source": [
    "# Type code here\n",
    "\n",
    "\n"
   ]
  }
 ],
 "metadata": {
  "kernelspec": {
   "display_name": "Python 3 (sandboxed)",
   "language": "python",
   "name": "python3"
  },
  "language_info": {
   "codemirror_mode": {
    "name": "ipython",
    "version": 3
   },
   "file_extension": ".py",
   "mimetype": "text/x-python",
   "name": "python",
   "nbconvert_exporter": "python",
   "pygments_lexer": "ipython3",
   "version": "3.5.5"
  }
 },
 "nbformat": 4,
 "nbformat_minor": 4
}
